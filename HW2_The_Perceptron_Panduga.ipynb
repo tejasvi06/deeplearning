{
  "cells": [
    {
      "cell_type": "markdown",
      "source": [
        "# **CSCE 5218 / CSCE 4930 Deep Learning**\n",
        "\n",
        "# **HW1a The Perceptron** (20 pt)\n"
      ],
      "metadata": {
        "id": "vYiZq0X2oB5t"
      }
    },
    {
      "cell_type": "code",
      "execution_count": 1,
      "source": [
        "# Get the datasets\n",
        "!wget http://huang.eng.unt.edu/CSCE-5218/test.dat\n",
        "!wget http://huang.eng.unt.edu/CSCE-5218/train.dat\n"
      ],
      "outputs": [
        {
          "output_type": "stream",
          "name": "stdout",
          "text": [
            "--2023-02-18 04:00:40--  http://huang.eng.unt.edu/CSCE-5218/test.dat\n",
            "Resolving huang.eng.unt.edu (huang.eng.unt.edu)... 129.120.123.155\n",
            "Connecting to huang.eng.unt.edu (huang.eng.unt.edu)|129.120.123.155|:80... connected.\n",
            "HTTP request sent, awaiting response... 200 OK\n",
            "Length: 2844 (2.8K)\n",
            "Saving to: ‘test.dat’\n",
            "\n",
            "test.dat            100%[===================>]   2.78K  --.-KB/s    in 0s      \n",
            "\n",
            "2023-02-18 04:00:40 (273 MB/s) - ‘test.dat’ saved [2844/2844]\n",
            "\n",
            "--2023-02-18 04:00:40--  http://huang.eng.unt.edu/CSCE-5218/train.dat\n",
            "Resolving huang.eng.unt.edu (huang.eng.unt.edu)... 129.120.123.155\n",
            "Connecting to huang.eng.unt.edu (huang.eng.unt.edu)|129.120.123.155|:80... connected.\n",
            "HTTP request sent, awaiting response... 200 OK\n",
            "Length: 11244 (11K)\n",
            "Saving to: ‘train.dat’\n",
            "\n",
            "train.dat           100%[===================>]  10.98K  --.-KB/s    in 0s      \n",
            "\n",
            "2023-02-18 04:00:41 (298 MB/s) - ‘train.dat’ saved [11244/11244]\n",
            "\n"
          ]
        }
      ],
      "metadata": {
        "colab": {
          "base_uri": "https://localhost:8080/"
        },
        "id": "vGVmKzgG2Ium",
        "outputId": "7f5c1f2a-ea39-4ccd-b5a4-384f699413f8"
      }
    },
    {
      "cell_type": "code",
      "execution_count": 2,
      "source": [
        "# Take a peek at the datasets\n",
        "!head train.dat\n",
        "!head test.dat"
      ],
      "outputs": [
        {
          "output_type": "stream",
          "name": "stdout",
          "text": [
            "A1\tA2\tA3\tA4\tA5\tA6\tA7\tA8\tA9\tA10\tA11\tA12\tA13\t\n",
            "1\t1\t0\t0\t0\t0\t0\t0\t1\t1\t0\t0\t1\t0\n",
            "0\t0\t1\t1\t0\t1\t1\t0\t0\t0\t0\t0\t1\t0\n",
            "0\t1\t0\t1\t1\t0\t1\t0\t1\t1\t1\t0\t1\t1\n",
            "0\t0\t1\t0\t0\t1\t0\t1\t0\t1\t1\t1\t1\t0\n",
            "0\t1\t0\t0\t0\t0\t0\t1\t1\t1\t1\t1\t1\t0\n",
            "0\t1\t1\t1\t0\t0\t0\t1\t0\t1\t1\t0\t1\t1\n",
            "0\t1\t1\t0\t0\t0\t1\t0\t0\t0\t0\t0\t1\t0\n",
            "0\t0\t0\t1\t1\t0\t1\t1\t1\t0\t0\t0\t1\t0\n",
            "0\t0\t0\t0\t0\t0\t1\t0\t1\t0\t1\t0\t1\t0\n",
            "A1\tA2\tA3\tA4\tA5\tA6\tA7\tA8\tA9\tA10\tA11\tA12\tA13\n",
            "1\t1\t1\t1\t0\t0\t1\t1\t0\t0\t0\t1\t1\t0\n",
            "0\t0\t0\t1\t0\t0\t1\t1\t0\t1\t0\t0\t1\t0\n",
            "0\t1\t1\t1\t0\t1\t1\t1\t1\t0\t0\t0\t1\t0\n",
            "0\t1\t1\t0\t1\t0\t1\t1\t1\t0\t1\t0\t1\t0\n",
            "0\t1\t0\t0\t0\t1\t0\t1\t0\t1\t0\t0\t1\t0\n",
            "0\t1\t1\t0\t0\t1\t1\t1\t1\t1\t1\t0\t1\t0\n",
            "0\t1\t1\t1\t0\t0\t1\t1\t0\t0\t0\t1\t1\t0\n",
            "0\t1\t0\t0\t1\t0\t0\t1\t1\t0\t1\t1\t1\t0\n",
            "1\t1\t1\t1\t0\t0\t1\t1\t0\t0\t0\t0\t1\t0\n"
          ]
        }
      ],
      "metadata": {
        "colab": {
          "base_uri": "https://localhost:8080/"
        },
        "id": "A69DxPSc8vNs",
        "outputId": "0f4664aa-3e66-4d7b-fe82-72a67ff0c370"
      }
    },
    {
      "cell_type": "markdown",
      "source": [
        "### Build the Perceptron Model\n",
        "\n",
        "You will need to complete some of the function definitions below.  DO NOT import any other libraries to complete this. "
      ],
      "metadata": {
        "id": "rFXHLhnhwiBR"
      }
    },
    {
      "cell_type": "code",
      "execution_count": 3,
      "source": [
        "import math\n",
        "import itertools\n",
        "import re\n",
        "\n",
        "\n",
        "# Corpus reader, all columns but the last one are coordinates;\n",
        "#   the last column is the label\n",
        "def read_data(file_name):\n",
        "    f = open(file_name, 'r')\n",
        "\n",
        "    data = []\n",
        "    # Discard header line\n",
        "    f.readline()\n",
        "    for instance in f.readlines():\n",
        "        if not re.search('\\t', instance): continue\n",
        "        instance = list(map(int, instance.strip().split('\\t')))\n",
        "        # Add a dummy input so that w0 becomes the bias\n",
        "        instance = [-1] + instance\n",
        "        data += [instance]\n",
        "    return data\n",
        "\n",
        "\n",
        "def dot_product(array1, array2):\n",
        "    #TODO: Return dot product of array 1 and array 2\n",
        "     return sum([w * x for w, x in zip(array1, array2)])\n",
        "\n",
        "\n",
        "def sigmoid(x):\n",
        "    #TODO: Return outpout of sigmoid function on x\n",
        "    return 1 / (1 + math.exp(-x))\n",
        "\n",
        "# The output of the model, which for the perceptron is \n",
        "# the sigmoid function applied to the dot product of \n",
        "# the instance and the weights\n",
        "def output(weight, instance):\n",
        "    #TODO: return the output of the model \n",
        "    #This is not implemented in the main() function directly\n",
        "    in_value=dot_product(weights,instance)\n",
        "    output=sigmoid(in_value)\n",
        "    return output\n",
        "\n",
        "# Predict the label of an instance; this is the definition of the perceptron\n",
        "# you should output 1 if the output is >= 0.5 else output 0\n",
        "def predict(weights, instance):\n",
        "    #TODO: return the prediction of the model\n",
        "    if sigmoid(dot_product(weights, instance)) >= 0.5:\n",
        "        return 1\n",
        "    return 0\n",
        "\n",
        "\n",
        "# Accuracy = percent of correct predictions\n",
        "def get_accuracy(weights, instances):\n",
        "    # You do not to write code like this, but get used to it\n",
        "    correct = sum([1 if predict(weights, instance) == instance[-1] else 0\n",
        "                   for instance in instances])\n",
        "    return correct * 100 / len(instances)\n",
        "\n",
        "\n",
        "# Train a perceptron with instances and hyperparameters:\n",
        "#       lr (learning rate) \n",
        "#       epochs\n",
        "# The implementation comes from the definition of the perceptron\n",
        "#\n",
        "# Training consists on fitting the parameters which are the weights\n",
        "# that's the only thing training is responsible to fit\n",
        "# (recall that w0 is the bias, and w1..wn are the weights for each coordinate)\n",
        "#\n",
        "# Hyperparameters (lr and epochs) are given to the training algorithm\n",
        "# We are updating weights in the opposite direction of the gradient of the error,\n",
        "# so with a \"decent\" lr we are guaranteed to reduce the error after each iteration.\n",
        "def train_perceptron(instances, lr, epochs):\n",
        "    #TODO: name this step\n",
        "    #Initializing the weights(Initially the weight is assigned to 0 for the model to learn and assign itself)\n",
        "    weights = [0] * (len(instances[0])-1)\n",
        "\n",
        "    while epochs > 0:\n",
        "        for instance in instances:\n",
        "            #TODO: name these steps\n",
        "            #To determine how much two vectors overlap, we use the dot product also called feedforward\n",
        "            #output is used to call sigmoid function (activation function) to change the output to non-linearity\n",
        "            in_value = dot_product(weights, instance)\n",
        "            output = sigmoid(in_value)\n",
        "            error = instance[-1] - output\n",
        "            #TODO: name these steps\n",
        "            #Updating the weights using back propagation\n",
        "            for i in range(0, len(weights)):\n",
        "                weights[i] += lr * error * output * (1-output) * instance[i]\n",
        "\n",
        "        epochs -= 1\n",
        "        if epochs == 0:\n",
        "            break\n",
        "\n",
        "    return weights"
      ],
      "outputs": [],
      "metadata": {
        "id": "cXAsP_lw3QwJ"
      }
    },
    {
      "cell_type": "markdown",
      "source": [
        "## Run it"
      ],
      "metadata": {
        "id": "adBZuMlAwiBT"
      }
    },
    {
      "cell_type": "code",
      "execution_count": 4,
      "source": [
        "instances_tr = read_data(\"train.dat\")\n",
        "instances_te = read_data(\"test.dat\")\n",
        "lr = 0.005\n",
        "epochs = 5\n",
        "weights = train_perceptron(instances_tr, lr, epochs)\n",
        "accuracy = get_accuracy(weights, instances_te)\n",
        "print(f\"#tr: {len(instances_tr):3}, epochs: {epochs:3}, learning rate: {lr:.3f}; \"\n",
        "      f\"Accuracy (test, {len(instances_te)} instances): {accuracy:.1f}\")"
      ],
      "outputs": [
        {
          "output_type": "stream",
          "name": "stdout",
          "text": [
            "#tr: 400, epochs:   5, learning rate: 0.005; Accuracy (test, 100 instances): 68.0\n"
          ]
        }
      ],
      "metadata": {
        "id": "50YvUza-BYQF",
        "colab": {
          "base_uri": "https://localhost:8080/"
        },
        "outputId": "8426d062-80f3-4e88-fd53-307f891e73b1"
      }
    },
    {
      "cell_type": "markdown",
      "source": [
        "## Questions\n",
        "\n",
        "Answer the following questions. Include your implementation and the output for each question."
      ],
      "metadata": {
        "id": "CBXkvaiQMohX"
      }
    },
    {
      "cell_type": "markdown",
      "source": [
        "\n",
        "\n",
        "### Question 1\n",
        "\n",
        "In `train_perceptron(instances, lr, epochs)`, we have the follosing code:\n",
        "```\n",
        "in_value = dot_product(weights, instance)\n",
        "output = sigmoid(in_value)\n",
        "error = instance[-1] - output\n",
        "```\n",
        "\n",
        "Why don't we have the following code snippet instead?\n",
        "```\n",
        "output = predict(weights, instance)\n",
        "error = instance[-1] - output\n",
        "```\n",
        "\n",
        "#### TODO Add your answer here (text only)\n",
        "\n",
        "\n"
      ],
      "metadata": {
        "id": "YCQ6BEk1CBlr"
      }
    },
    {
      "cell_type": "markdown",
      "source": [
        "## **Solution-1:**"
      ],
      "metadata": {
        "id": "GjBiuRwNsGdd"
      }
    },
    {
      "cell_type": "markdown",
      "source": [
        "## **Dot product function**"
      ],
      "metadata": {
        "id": "0WjqOOpBrYO4"
      }
    },
    {
      "cell_type": "markdown",
      "source": [
        "To determine how much two vectors overlap, we use the dot product. The output of dot product is a single values. The dot product is conducted in a neural network between a weight matrix and an input vector. In the above code dot product is the overlap between weights and instances."
      ],
      "metadata": {
        "id": "N7j4xMBzrbgq"
      }
    },
    {
      "cell_type": "markdown",
      "source": [
        "## **Sigmoid Function**"
      ],
      "metadata": {
        "id": "x7Tb0W4Gredz"
      }
    },
    {
      "cell_type": "markdown",
      "source": [
        "Sigmoid is an activation function. It is used to change the output to non-linearity since maximum of real-world applications contains complex patterns and linear approach wont fit those type of models and relations. It converts any output values interms of 0 or 1.\n",
        "\n",
        "In the above code predict is not used as it gives output as -1 to 1. It can be used in models where we need to distinguish the data into 2 classes. We can thus use sigmoid to find the probability between actual ouput and predicted output which helps in adjusting the overal weights."
      ],
      "metadata": {
        "id": "0wXFrt0Wr9K1"
      }
    },
    {
      "cell_type": "markdown",
      "source": [
        "## **Comment the training function and run it**"
      ],
      "metadata": {
        "id": "i2sVONY3sBjd"
      }
    },
    {
      "cell_type": "code",
      "source": [
        "#instances_tr = read_data(\"train.dat\") \n",
        "instances_te = read_data(\"test.dat\")\n",
        "lr = 0.005\n",
        "epochs = 5\n",
        "weights = train_perceptron(instances_te, lr, epochs)\n",
        "accuracy = get_accuracy(weights, instances_te)\n",
        "print(f\"#tr: {len(instances_te):3}, epochs: {epochs:3}, learning rate: {lr:.3f}; \"\n",
        "      f\"Accuracy (test, {len(instances_te)} instances): {accuracy:.1f}\")"
      ],
      "metadata": {
        "id": "-cdnmcBbs_1a",
        "colab": {
          "base_uri": "https://localhost:8080/"
        },
        "outputId": "75b6249e-f7f6-4485-ecf2-001d6ac12fd2"
      },
      "execution_count": 5,
      "outputs": [
        {
          "output_type": "stream",
          "name": "stdout",
          "text": [
            "#tr: 100, epochs:   5, learning rate: 0.005; Accuracy (test, 100 instances): 68.0\n"
          ]
        }
      ]
    },
    {
      "cell_type": "markdown",
      "source": [
        "**Commenting the training code and using direct testing data will not give greater accuracy. Using training data, parameters are learned continuousy and based on the best accuracy, those parameters are applied on the test data.**"
      ],
      "metadata": {
        "id": "nYnu2D0Os9EL"
      }
    },
    {
      "cell_type": "markdown",
      "source": [
        "### Question 2\n",
        "Train the perceptron with the following hyperparameters and calculate the accuracy with the test dataset.\n",
        "\n",
        "```\n",
        "tr_percent = [5, 10, 25, 50, 75, 100] # percent of the training dataset to train with\n",
        "num_epochs = [5, 10, 20, 50, 100]              # number of epochs\n",
        "lr = [0.005, 0.01, 0.05]              # learning rate\n",
        "```\n",
        "\n",
        "TODO: Write your code below and include the output at the end of each training loop (NOT AFTER EACH EPOCH)\n",
        "of your code.The output should look like the following:\n",
        "```\n",
        "# tr:  20, epochs:   5, learning rate: 0.005; Accuracy (test, 100 instances): 68.0\n",
        "# tr:  20, epochs:  10, learning rate: 0.005; Accuracy (test, 100 instances): 68.0\n",
        "# tr:  20, epochs:  20, learning rate: 0.005; Accuracy (test, 100 instances): 68.0\n",
        "[and so on for all the combinations]\n",
        "```\n",
        "You will get different results with different hyperparameters.\n",
        "\n",
        "#### TODO Add your answer here (code and output in the format above) \n"
      ],
      "metadata": {
        "id": "JU3c3m6YL2rK"
      }
    },
    {
      "cell_type": "code",
      "execution_count": 6,
      "source": [
        "instances_tr = read_data(\"train.dat\")\n",
        "instances_te = read_data(\"test.dat\")\n",
        "tr_percent = [5, 10, 25, 50, 75, 100] # percent of the training dataset to train with\n",
        "num_epochs = [5, 10, 20, 50, 100]     # number of epochs\n",
        "lr_array = [0.005, 0.01, 0.05]        # learning rate\n",
        "\n",
        "for lr in lr_array:\n",
        "  for tr_size in tr_percent:\n",
        "    for epochs in num_epochs:\n",
        "      size =  round(len(instances_tr)*tr_size/100)\n",
        "      pre_instances = instances_tr[0:size]\n",
        "      weights = train_perceptron(pre_instances, lr, epochs)\n",
        "      accuracy = get_accuracy(weights, instances_te)\n",
        "    print(f\"#tr: {len(pre_instances):0}, epochs: {epochs:3}, learning rate: {lr:.3f}; \"\n",
        "            f\"Accuracy (test, {len(instances_te)} instances): {accuracy:.1f}\")"
      ],
      "outputs": [
        {
          "output_type": "stream",
          "name": "stdout",
          "text": [
            "#tr: 20, epochs: 100, learning rate: 0.005; Accuracy (test, 100 instances): 68.0\n",
            "#tr: 40, epochs: 100, learning rate: 0.005; Accuracy (test, 100 instances): 68.0\n",
            "#tr: 100, epochs: 100, learning rate: 0.005; Accuracy (test, 100 instances): 68.0\n",
            "#tr: 200, epochs: 100, learning rate: 0.005; Accuracy (test, 100 instances): 74.0\n",
            "#tr: 300, epochs: 100, learning rate: 0.005; Accuracy (test, 100 instances): 78.0\n",
            "#tr: 400, epochs: 100, learning rate: 0.005; Accuracy (test, 100 instances): 77.0\n",
            "#tr: 20, epochs: 100, learning rate: 0.010; Accuracy (test, 100 instances): 68.0\n",
            "#tr: 40, epochs: 100, learning rate: 0.010; Accuracy (test, 100 instances): 68.0\n",
            "#tr: 100, epochs: 100, learning rate: 0.010; Accuracy (test, 100 instances): 71.0\n",
            "#tr: 200, epochs: 100, learning rate: 0.010; Accuracy (test, 100 instances): 78.0\n",
            "#tr: 300, epochs: 100, learning rate: 0.010; Accuracy (test, 100 instances): 80.0\n",
            "#tr: 400, epochs: 100, learning rate: 0.010; Accuracy (test, 100 instances): 80.0\n",
            "#tr: 20, epochs: 100, learning rate: 0.050; Accuracy (test, 100 instances): 64.0\n",
            "#tr: 40, epochs: 100, learning rate: 0.050; Accuracy (test, 100 instances): 69.0\n",
            "#tr: 100, epochs: 100, learning rate: 0.050; Accuracy (test, 100 instances): 77.0\n",
            "#tr: 200, epochs: 100, learning rate: 0.050; Accuracy (test, 100 instances): 76.0\n",
            "#tr: 300, epochs: 100, learning rate: 0.050; Accuracy (test, 100 instances): 77.0\n",
            "#tr: 400, epochs: 100, learning rate: 0.050; Accuracy (test, 100 instances): 80.0\n"
          ]
        }
      ],
      "metadata": {
        "id": "G-VKJOUu2BTp",
        "colab": {
          "base_uri": "https://localhost:8080/"
        },
        "outputId": "1f0bba51-e8a9-44e2-e888-708f3f4460c6"
      }
    },
    {
      "cell_type": "markdown",
      "source": [
        "## **Answer 2:**"
      ],
      "metadata": {
        "id": "jU1QDsVXzi9a"
      }
    },
    {
      "cell_type": "code",
      "source": [
        "instances_tr = read_data(\"train.dat\")\n",
        "instances_te = read_data(\"test.dat\")\n",
        "tr_percent = [5, 10, 25, 50, 75, 100]\n",
        "lr = [0.005, 0.01, 0.05] \n",
        "num_epochs = [5, 10, 20, 50, 100]\n",
        "for z in range (len(tr_percent)):\n",
        " for i in range (len(lr)):\n",
        "  for j in range (len(num_epochs)):\n",
        "   weights = train_perceptron(instances_tr, lr[i], num_epochs[j])\n",
        "   accuracy = get_accuracy(weights, instances_te)\n",
        "   print(f\"#tr: {((len(instances_tr))*(tr_percent[z]))/100:3}, epochs: {num_epochs[j]:3}, learning rate: {lr[i]:.3f}; \"\n",
        "      f\"Accuracy (test, {len(instances_te)} instances): {accuracy:.1f}\")"
      ],
      "metadata": {
        "id": "AXV-ieJHtVU0",
        "colab": {
          "base_uri": "https://localhost:8080/"
        },
        "outputId": "ca87090e-6215-4790-fa2c-6d6ffee4dcda"
      },
      "execution_count": 7,
      "outputs": [
        {
          "output_type": "stream",
          "name": "stdout",
          "text": [
            "#tr: 20.0, epochs:   5, learning rate: 0.005; Accuracy (test, 100 instances): 68.0\n",
            "#tr: 20.0, epochs:  10, learning rate: 0.005; Accuracy (test, 100 instances): 68.0\n",
            "#tr: 20.0, epochs:  20, learning rate: 0.005; Accuracy (test, 100 instances): 69.0\n",
            "#tr: 20.0, epochs:  50, learning rate: 0.005; Accuracy (test, 100 instances): 73.0\n",
            "#tr: 20.0, epochs: 100, learning rate: 0.005; Accuracy (test, 100 instances): 77.0\n",
            "#tr: 20.0, epochs:   5, learning rate: 0.010; Accuracy (test, 100 instances): 68.0\n",
            "#tr: 20.0, epochs:  10, learning rate: 0.010; Accuracy (test, 100 instances): 69.0\n",
            "#tr: 20.0, epochs:  20, learning rate: 0.010; Accuracy (test, 100 instances): 70.0\n",
            "#tr: 20.0, epochs:  50, learning rate: 0.010; Accuracy (test, 100 instances): 77.0\n",
            "#tr: 20.0, epochs: 100, learning rate: 0.010; Accuracy (test, 100 instances): 80.0\n",
            "#tr: 20.0, epochs:   5, learning rate: 0.050; Accuracy (test, 100 instances): 69.0\n",
            "#tr: 20.0, epochs:  10, learning rate: 0.050; Accuracy (test, 100 instances): 76.0\n",
            "#tr: 20.0, epochs:  20, learning rate: 0.050; Accuracy (test, 100 instances): 80.0\n",
            "#tr: 20.0, epochs:  50, learning rate: 0.050; Accuracy (test, 100 instances): 80.0\n",
            "#tr: 20.0, epochs: 100, learning rate: 0.050; Accuracy (test, 100 instances): 80.0\n",
            "#tr: 40.0, epochs:   5, learning rate: 0.005; Accuracy (test, 100 instances): 68.0\n",
            "#tr: 40.0, epochs:  10, learning rate: 0.005; Accuracy (test, 100 instances): 68.0\n",
            "#tr: 40.0, epochs:  20, learning rate: 0.005; Accuracy (test, 100 instances): 69.0\n",
            "#tr: 40.0, epochs:  50, learning rate: 0.005; Accuracy (test, 100 instances): 73.0\n",
            "#tr: 40.0, epochs: 100, learning rate: 0.005; Accuracy (test, 100 instances): 77.0\n",
            "#tr: 40.0, epochs:   5, learning rate: 0.010; Accuracy (test, 100 instances): 68.0\n",
            "#tr: 40.0, epochs:  10, learning rate: 0.010; Accuracy (test, 100 instances): 69.0\n",
            "#tr: 40.0, epochs:  20, learning rate: 0.010; Accuracy (test, 100 instances): 70.0\n",
            "#tr: 40.0, epochs:  50, learning rate: 0.010; Accuracy (test, 100 instances): 77.0\n",
            "#tr: 40.0, epochs: 100, learning rate: 0.010; Accuracy (test, 100 instances): 80.0\n",
            "#tr: 40.0, epochs:   5, learning rate: 0.050; Accuracy (test, 100 instances): 69.0\n",
            "#tr: 40.0, epochs:  10, learning rate: 0.050; Accuracy (test, 100 instances): 76.0\n",
            "#tr: 40.0, epochs:  20, learning rate: 0.050; Accuracy (test, 100 instances): 80.0\n",
            "#tr: 40.0, epochs:  50, learning rate: 0.050; Accuracy (test, 100 instances): 80.0\n",
            "#tr: 40.0, epochs: 100, learning rate: 0.050; Accuracy (test, 100 instances): 80.0\n",
            "#tr: 100.0, epochs:   5, learning rate: 0.005; Accuracy (test, 100 instances): 68.0\n",
            "#tr: 100.0, epochs:  10, learning rate: 0.005; Accuracy (test, 100 instances): 68.0\n",
            "#tr: 100.0, epochs:  20, learning rate: 0.005; Accuracy (test, 100 instances): 69.0\n",
            "#tr: 100.0, epochs:  50, learning rate: 0.005; Accuracy (test, 100 instances): 73.0\n",
            "#tr: 100.0, epochs: 100, learning rate: 0.005; Accuracy (test, 100 instances): 77.0\n",
            "#tr: 100.0, epochs:   5, learning rate: 0.010; Accuracy (test, 100 instances): 68.0\n",
            "#tr: 100.0, epochs:  10, learning rate: 0.010; Accuracy (test, 100 instances): 69.0\n",
            "#tr: 100.0, epochs:  20, learning rate: 0.010; Accuracy (test, 100 instances): 70.0\n",
            "#tr: 100.0, epochs:  50, learning rate: 0.010; Accuracy (test, 100 instances): 77.0\n",
            "#tr: 100.0, epochs: 100, learning rate: 0.010; Accuracy (test, 100 instances): 80.0\n",
            "#tr: 100.0, epochs:   5, learning rate: 0.050; Accuracy (test, 100 instances): 69.0\n",
            "#tr: 100.0, epochs:  10, learning rate: 0.050; Accuracy (test, 100 instances): 76.0\n",
            "#tr: 100.0, epochs:  20, learning rate: 0.050; Accuracy (test, 100 instances): 80.0\n",
            "#tr: 100.0, epochs:  50, learning rate: 0.050; Accuracy (test, 100 instances): 80.0\n",
            "#tr: 100.0, epochs: 100, learning rate: 0.050; Accuracy (test, 100 instances): 80.0\n",
            "#tr: 200.0, epochs:   5, learning rate: 0.005; Accuracy (test, 100 instances): 68.0\n",
            "#tr: 200.0, epochs:  10, learning rate: 0.005; Accuracy (test, 100 instances): 68.0\n",
            "#tr: 200.0, epochs:  20, learning rate: 0.005; Accuracy (test, 100 instances): 69.0\n",
            "#tr: 200.0, epochs:  50, learning rate: 0.005; Accuracy (test, 100 instances): 73.0\n",
            "#tr: 200.0, epochs: 100, learning rate: 0.005; Accuracy (test, 100 instances): 77.0\n",
            "#tr: 200.0, epochs:   5, learning rate: 0.010; Accuracy (test, 100 instances): 68.0\n",
            "#tr: 200.0, epochs:  10, learning rate: 0.010; Accuracy (test, 100 instances): 69.0\n",
            "#tr: 200.0, epochs:  20, learning rate: 0.010; Accuracy (test, 100 instances): 70.0\n",
            "#tr: 200.0, epochs:  50, learning rate: 0.010; Accuracy (test, 100 instances): 77.0\n",
            "#tr: 200.0, epochs: 100, learning rate: 0.010; Accuracy (test, 100 instances): 80.0\n",
            "#tr: 200.0, epochs:   5, learning rate: 0.050; Accuracy (test, 100 instances): 69.0\n",
            "#tr: 200.0, epochs:  10, learning rate: 0.050; Accuracy (test, 100 instances): 76.0\n",
            "#tr: 200.0, epochs:  20, learning rate: 0.050; Accuracy (test, 100 instances): 80.0\n",
            "#tr: 200.0, epochs:  50, learning rate: 0.050; Accuracy (test, 100 instances): 80.0\n",
            "#tr: 200.0, epochs: 100, learning rate: 0.050; Accuracy (test, 100 instances): 80.0\n",
            "#tr: 300.0, epochs:   5, learning rate: 0.005; Accuracy (test, 100 instances): 68.0\n",
            "#tr: 300.0, epochs:  10, learning rate: 0.005; Accuracy (test, 100 instances): 68.0\n",
            "#tr: 300.0, epochs:  20, learning rate: 0.005; Accuracy (test, 100 instances): 69.0\n",
            "#tr: 300.0, epochs:  50, learning rate: 0.005; Accuracy (test, 100 instances): 73.0\n",
            "#tr: 300.0, epochs: 100, learning rate: 0.005; Accuracy (test, 100 instances): 77.0\n",
            "#tr: 300.0, epochs:   5, learning rate: 0.010; Accuracy (test, 100 instances): 68.0\n",
            "#tr: 300.0, epochs:  10, learning rate: 0.010; Accuracy (test, 100 instances): 69.0\n",
            "#tr: 300.0, epochs:  20, learning rate: 0.010; Accuracy (test, 100 instances): 70.0\n",
            "#tr: 300.0, epochs:  50, learning rate: 0.010; Accuracy (test, 100 instances): 77.0\n",
            "#tr: 300.0, epochs: 100, learning rate: 0.010; Accuracy (test, 100 instances): 80.0\n",
            "#tr: 300.0, epochs:   5, learning rate: 0.050; Accuracy (test, 100 instances): 69.0\n",
            "#tr: 300.0, epochs:  10, learning rate: 0.050; Accuracy (test, 100 instances): 76.0\n",
            "#tr: 300.0, epochs:  20, learning rate: 0.050; Accuracy (test, 100 instances): 80.0\n",
            "#tr: 300.0, epochs:  50, learning rate: 0.050; Accuracy (test, 100 instances): 80.0\n",
            "#tr: 300.0, epochs: 100, learning rate: 0.050; Accuracy (test, 100 instances): 80.0\n",
            "#tr: 400.0, epochs:   5, learning rate: 0.005; Accuracy (test, 100 instances): 68.0\n",
            "#tr: 400.0, epochs:  10, learning rate: 0.005; Accuracy (test, 100 instances): 68.0\n",
            "#tr: 400.0, epochs:  20, learning rate: 0.005; Accuracy (test, 100 instances): 69.0\n",
            "#tr: 400.0, epochs:  50, learning rate: 0.005; Accuracy (test, 100 instances): 73.0\n",
            "#tr: 400.0, epochs: 100, learning rate: 0.005; Accuracy (test, 100 instances): 77.0\n",
            "#tr: 400.0, epochs:   5, learning rate: 0.010; Accuracy (test, 100 instances): 68.0\n",
            "#tr: 400.0, epochs:  10, learning rate: 0.010; Accuracy (test, 100 instances): 69.0\n",
            "#tr: 400.0, epochs:  20, learning rate: 0.010; Accuracy (test, 100 instances): 70.0\n",
            "#tr: 400.0, epochs:  50, learning rate: 0.010; Accuracy (test, 100 instances): 77.0\n",
            "#tr: 400.0, epochs: 100, learning rate: 0.010; Accuracy (test, 100 instances): 80.0\n",
            "#tr: 400.0, epochs:   5, learning rate: 0.050; Accuracy (test, 100 instances): 69.0\n",
            "#tr: 400.0, epochs:  10, learning rate: 0.050; Accuracy (test, 100 instances): 76.0\n",
            "#tr: 400.0, epochs:  20, learning rate: 0.050; Accuracy (test, 100 instances): 80.0\n",
            "#tr: 400.0, epochs:  50, learning rate: 0.050; Accuracy (test, 100 instances): 80.0\n",
            "#tr: 400.0, epochs: 100, learning rate: 0.050; Accuracy (test, 100 instances): 80.0\n"
          ]
        }
      ]
    },
    {
      "cell_type": "markdown",
      "source": [
        "**In the code we can see how for different percentages of training data with respect to different values of epochs and learning rate is effecting the accuracy. We can conclude that the accuracy doesn't only depend on the percentage of trained data but also on the other hyperparameters.**"
      ],
      "metadata": {
        "id": "oOLQ5U9s1ZM8"
      }
    },
    {
      "cell_type": "markdown",
      "source": [
        "### Question 3\n",
        "Write a couple paragraphs interpreting the results with all the combinations of hyperparameters. Drawing a plot will probably help you make a point. In particular, answer the following:\n",
        "- A. Do you need to train with all the training dataset to get the highest accuracy with the test dataset?\n",
        "- B. How do you justify that training the second run obtains worse accuracy than the first one (despite the second one uses more training data)?\n",
        "   ```\n",
        "#tr: 100, epochs:  20, learning rate: 0.050; Accuracy (test, 100 instances): 71.0\n",
        "#tr: 200, epochs:  20, learning rate: 0.005; Accuracy (test, 100 instances): 68.0\n",
        "```\n",
        "- C. Can you get higher accuracy with additional hyperparameters (higher than `80.0`)?\n",
        "- D. Is it always worth training for more epochs (while keeping all other hyperparameters fixed)?\n",
        "\n",
        "#### TODO: Add your answer here (code and text)\n",
        "\n"
      ],
      "metadata": {
        "id": "OFB9MtwML24O"
      }
    },
    {
      "cell_type": "markdown",
      "source": [
        "## **Solution-3a:**\n",
        "\n",
        "3a) To achieve the best accuracy, the model need not be trained with all the training dataset as it may lead to overfitting. The model can be trained on the training data and then validated using validation data before applying on testing data. The accuracy of validated data can be measured, and depending on the accuracy, the hyperparameters can be adjusted. As observed in the above output, the accuracy for 5% of training data with epoch=20 and lr=0.05 yields maximum accuracy of 80 % and by utilizing 100% of training data with hyperparameter values as epoch=100, learning rate: 0.010 also gives maximm accuracy of 80% on test data. So, training the model with maximum training data will not increase the accuracy on the test data."
      ],
      "metadata": {
        "id": "As4FptcG2AuP"
      }
    },
    {
      "cell_type": "markdown",
      "source": [
        "## **Solution-3b**"
      ],
      "metadata": {
        "id": "Q4y9rn_w2ITB"
      }
    },
    {
      "cell_type": "markdown",
      "source": [
        "![3b.png](data:image/png;base64,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)"
      ],
      "metadata": {
        "id": "38rA_Kp3wiBX"
      }
    },
    {
      "cell_type": "markdown",
      "source": [
        "As seen in the output, the training data with 25% training data(tr=100) and epoch=20 has accuracy of 80% and while the second run with 50% training data(tr=200) has accuracy of 69%. This is due to Hyperparameter tuning. The hyperparameters are different for both the training data set. The learning rate varies for both the traianing data due to which the accuracy is effected. A high learning rate can cause the model to overestimate the ideal solution and settle to a less accurate suboptimal option.The other reason might be due to overfitting of the training data also may lead to lower accuracy."
      ],
      "metadata": {
        "id": "G251JhHM17dg"
      }
    },
    {
      "cell_type": "code",
      "source": [],
      "metadata": {
        "id": "rAtc9qVI735J"
      },
      "execution_count": null,
      "outputs": []
    },
    {
      "cell_type": "markdown",
      "source": [
        "## **Solution-3c:**"
      ],
      "metadata": {
        "id": "ogsxOtUl2NMA"
      }
    },
    {
      "cell_type": "markdown",
      "source": [
        "There are other hyperparameters that can show significant effect on the accuracy like the batch size which shows with how much percentage of training data, the model to be trained. The type of activation function used also effect the accuracy of model. The number of hidden layers also effect the model, complex applications need more number of hidden layers to provide more accuracy.The weight initialized may also effect the model's accuracy."
      ],
      "metadata": {
        "id": "EdpdfPVA2NT7"
      }
    },
    {
      "cell_type": "markdown",
      "source": [
        "## **Solution-3d:**"
      ],
      "metadata": {
        "id": "TQ7WG6B42T1E"
      }
    },
    {
      "cell_type": "markdown",
      "source": [
        "Increasing the epochs alone will not increase the accuracy even though keeping other parameters constant. The accuracy will be droppped in few cases due to overfitting. The epochs should be monitored with the training data. If the increase in epoch leads to degarding the performance of the model then the epoch size should be minimised based on observations on the validation data.\n",
        "\n",
        "As seen in the below code where the number of epochs consists of array of increasing values of epochs. The accuracy is decreased as the number of epochs are increased. The accuracy is decreased from 80 % at epoch=250 to 79% at epoch=350."
      ],
      "metadata": {
        "id": "5aR98eL_2gEF"
      }
    }
  ],
  "metadata": {
    "accelerator": "GPU",
    "colab": {
      "provenance": []
    },
    "kernelspec": {
      "display_name": "Python 3",
      "name": "python3"
    },
    "language_info": {
      "codemirror_mode": {
        "name": "ipython",
        "version": 3
      },
      "file_extension": ".py",
      "mimetype": "text/x-python",
      "name": "python",
      "nbconvert_exporter": "python",
      "pygments_lexer": "ipython3",
      "version": "3.8.8"
    }
  },
  "nbformat": 4,
  "nbformat_minor": 0
}